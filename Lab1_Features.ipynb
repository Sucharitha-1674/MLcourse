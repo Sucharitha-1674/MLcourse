{
  "nbformat": 4,
  "nbformat_minor": 0,
  "metadata": {
    "colab": {
      "name": "Lab1_Features.ipynb",
      "provenance": [],
      "collapsed_sections": [],
      "include_colab_link": true
    },
    "kernelspec": {
      "name": "python3",
      "display_name": "Python 3"
    },
    "language_info": {
      "name": "python"
    }
  },
  "cells": [
    {
      "cell_type": "markdown",
      "metadata": {
        "id": "view-in-github",
        "colab_type": "text"
      },
      "source": [
        "<a href=\"https://colab.research.google.com/github/Sucharitha-1674/MLcourse/blob/main/Lab1_Features.ipynb\" target=\"_parent\"><img src=\"https://colab.research.google.com/assets/colab-badge.svg\" alt=\"Open In Colab\"/></a>"
      ]
    },
    {
      "cell_type": "markdown",
      "metadata": {
        "id": "A6I1yI79fbLD"
      },
      "source": [
        "# Extracting features from data\n",
        "\n",
        "FMML Module 1, Lab 1<br>\n",
        " Module Coordinator: Thrupthi Ann John thrupthi.ann@research.iiit.ac.in <br>\n",
        " Release date: 4 October 2021 Monday <br>\n",
        "\n"
      ]
    },
    {
      "cell_type": "code",
      "metadata": {
        "id": "OimBnfcpvcNS",
        "outputId": "cd898df8-dd60-47b1-f61e-42a247a28d9b",
        "colab": {
          "base_uri": "https://localhost:8080/"
        }
      },
      "source": [
        "! pip install wikipedia\n",
        "\n",
        "import wikipedia\n",
        "import nltk\n",
        "from nltk.util import ngrams\n",
        "from collections import Counter\n",
        "import matplotlib.pyplot as plt\n",
        "import numpy as np\n",
        "import re\n",
        "import unicodedata\n",
        "import plotly.express as px\n",
        "import pandas as pd\n"
      ],
      "execution_count": 3,
      "outputs": [
        {
          "output_type": "stream",
          "name": "stdout",
          "text": [
            "Collecting wikipedia\n",
            "  Downloading wikipedia-1.4.0.tar.gz (27 kB)\n",
            "Requirement already satisfied: beautifulsoup4 in /usr/local/lib/python3.7/dist-packages (from wikipedia) (4.6.3)\n",
            "Requirement already satisfied: requests<3.0.0,>=2.0.0 in /usr/local/lib/python3.7/dist-packages (from wikipedia) (2.23.0)\n",
            "Requirement already satisfied: idna<3,>=2.5 in /usr/local/lib/python3.7/dist-packages (from requests<3.0.0,>=2.0.0->wikipedia) (2.10)\n",
            "Requirement already satisfied: chardet<4,>=3.0.2 in /usr/local/lib/python3.7/dist-packages (from requests<3.0.0,>=2.0.0->wikipedia) (3.0.4)\n",
            "Requirement already satisfied: urllib3!=1.25.0,!=1.25.1,<1.26,>=1.21.1 in /usr/local/lib/python3.7/dist-packages (from requests<3.0.0,>=2.0.0->wikipedia) (1.24.3)\n",
            "Requirement already satisfied: certifi>=2017.4.17 in /usr/local/lib/python3.7/dist-packages (from requests<3.0.0,>=2.0.0->wikipedia) (2021.5.30)\n",
            "Building wheels for collected packages: wikipedia\n",
            "  Building wheel for wikipedia (setup.py) ... \u001b[?25l\u001b[?25hdone\n",
            "  Created wheel for wikipedia: filename=wikipedia-1.4.0-py3-none-any.whl size=11696 sha256=427eaf9444690ed7c1d54f18a253b54ac5cd20763d302b7dd22263ae14a62c1b\n",
            "  Stored in directory: /root/.cache/pip/wheels/15/93/6d/5b2c68b8a64c7a7a04947b4ed6d89fb557dcc6bc27d1d7f3ba\n",
            "Successfully built wikipedia\n",
            "Installing collected packages: wikipedia\n",
            "Successfully installed wikipedia-1.4.0\n"
          ]
        }
      ]
    },
    {
      "cell_type": "markdown",
      "metadata": {
        "id": "m6hGhIGiy4GP"
      },
      "source": [
        "# Part 1: Features of text\n",
        "How do we apply machine learning on text? We can't directly use the text as input to our algorithms. We need to convert them to features. In this notebook, we will explore a simple way of converting text to features. \n",
        "\n",
        "Let us download a few documents off Wikipedia."
      ]
    },
    {
      "cell_type": "code",
      "metadata": {
        "id": "lpUmCoEr2R3J"
      },
      "source": [
        "topic1 = 'Giraffe'\n",
        "topic2 = 'Elephant'\n",
        "wikipedia.set_lang('en') \n",
        "eng1 = wikipedia.page(topic1).content\n",
        "eng2 = wikipedia.page(topic2).content\n",
        "wikipedia.set_lang('fr')\n",
        "fr1 = wikipedia.page(topic1).content\n",
        "fr2 = wikipedia.page(topic2).content\n",
        "\n"
      ],
      "execution_count": 4,
      "outputs": []
    },
    {
      "cell_type": "markdown",
      "metadata": {
        "id": "Cj7RlhMiO5kd"
      },
      "source": [
        "This is what the text looks like:"
      ]
    },
    {
      "cell_type": "code",
      "metadata": {
        "id": "GW0G-t912UXZ"
      },
      "source": [
        "fr2"
      ],
      "execution_count": null,
      "outputs": []
    },
    {
      "cell_type": "markdown",
      "metadata": {
        "id": "EZkmNJ7XO9xX"
      },
      "source": [
        "We need to clean this up a bit. Let us remove all the special characters and keep only 26 letters and space. Note that this will remove accented characters in French also. We are also removing all the numbers and spaces. So this is not an ideal solution."
      ]
    },
    {
      "cell_type": "code",
      "metadata": {
        "id": "e5yf5P9pPI4t"
      },
      "source": [
        "def cleanup(text):\n",
        "  text = text.lower()  # make it lowercase\n",
        "  text = re.sub('[^a-z]+', '', text) # only keep characters\n",
        "  return text"
      ],
      "execution_count": 5,
      "outputs": []
    },
    {
      "cell_type": "code",
      "metadata": {
        "id": "qrOjC32fRuTK"
      },
      "source": [
        "eng1 = cleanup(eng1)\n",
        "eng2 = cleanup(eng2)\n",
        "fr1 = cleanup(fr1)\n",
        "fr2 = cleanup(fr2)"
      ],
      "execution_count": null,
      "outputs": []
    },
    {
      "cell_type": "code",
      "metadata": {
        "id": "rIdqvL2G-LqL"
      },
      "source": [
        "print(eng1)"
      ],
      "execution_count": null,
      "outputs": []
    },
    {
      "cell_type": "code",
      "metadata": {
        "id": "LQDVyuxof5SJ",
        "outputId": "efd1febe-9d10-4115-e749-68aa89b1a7aa",
        "colab": {
          "base_uri": "https://localhost:8080/"
        }
      },
      "source": [
        "print(fr1)"
      ],
      "execution_count": 6,
      "outputs": [
        {
          "output_type": "stream",
          "name": "stdout",
          "text": [
            "La Girafe (Giraffa camelopardalis) est une espèce de mammifères ongulés artiodactyles, du groupe des ruminants, vivant dans les savanes africaines et répandue du Tchad jusqu'en Afrique du Sud. Son nom commun vient de l'arabe زرافة, zarāfah, mais l'animal fut anciennement appelé camélopard, du latin camelopardus, contraction de camelus (chameau) en raison du long cou et de pardus (léopard) en raison des taches recouvrant son corps. Après des millions d'années d'évolution, la girafe a acquis une anatomie unique avec un cou particulièrement allongé qui lui permet notamment de brouter haut dans les arbres.\n",
            "Neuf populations, se différenciant par leurs robes et formes, ont été décrites par les naturalistes depuis le XIXe siècle parfois comme espèces à part entière, mais généralement considérées comme simples sous-espèces jusqu'au XXIe siècle. Cependant la taxonomie des girafes est actuellement débattue parmi les scientifiques.\n",
            "L’espèce est considérée comme vulnérable par l'UICN : il y avait 155 000 individus en 1985 et il n'y en a plus que 97 000 en 2015, soit une diminution approchant 40 % en 30 ans.\n",
            "\n",
            "\n",
            "== Étymologie ==\n",
            "Le substantif féminin,,, « girafe » est un emprunt,, à l'italien giraffa, lui-même emprunté à l'arabe zurāfa pour l'arabe classique zarāfa,.\n",
            "\n",
            "\n",
            "== Description ==\n",
            "\n",
            "Il s’agit de l’animal actuel le plus grand en hauteur, pouvant, grâce à la longueur de son cou, atteindre jusqu’à 5,50 m ou même 5,80 m. Les girafes femelles mesurent, à l'âge adulte, entre 4,00 et 4,60 mètres de hauteur, soit 4,30 m en moyenne. Cependant leur cou comporte le même nombre de vertèbres cervicales (7, d'environ 40 cm chacune) que la plupart des autres mammifères (à l’exception des lamantins et des paresseux) . Les girafes dorment très peu, moins de 2 heures par 24 heures, et plus volontiers le jour, car elles peuvent continuer à surveiller l'horizon. En réalité, elles somnolent debout, les yeux grands ouverts et sur des périodes allant de 1 à 30 minutes d'affilée. Le poids d'une girafe varie entre 750 et 1 100 kg pour les femelles et peut aller jusqu’à 2 000 kg pour les mâles. Son pelage à dominante rousse est réticulé ou tacheté de jaune ; son ventre est blanc. Sa queue, mince et longue, terminée par un pinceau de poils noirs, mesure de 70 à 100 cm.\n",
            "La tête porte deux ossicônes, des appendices osseux recouverts de peau. Les ossicônes des femelles sont couverts d'une touffe de poils tandis que ceux des mâles en sont pratiquement dépourvus après quelques combats. Les mâles développent parfois en plus des dépôts de calcium sur leur crâne qui finissent par donner l'impression qu'un troisième ossicône est présent.\n",
            "Ses caractéristiques physiques, notamment la longueur de ses membres et de son cou, font qu'elle est considérée par la NASA comme le modèle idéal pour étudier l'effet de la gravité sur la circulation sanguine. Les phlébologues de la NASA ont copié son réseau sanguin pour réaliser la combinaison anti-G des pilotes de chasse et astronautes.\n",
            "Son cœur de 11 kg, au myocarde renforcé, pompe 60 litres de sang et bat à 170 pulsations par minute, ce qui donne une pression artérielle deux fois supérieure à la pression humaine. Dans les artères du cou, tout un réseau de muscles annulaires aide à hisser le sang jusqu'au cerveau. Dans les veines, des valvules orientent le sang vers le cœur. Lorsque l'animal baisse la tête au sol, les valvules de la jugulaire sont fonctionnelles et empêchent le sang de retomber vers le cerveau (ce qui conduirait à un « voile rouge »). La veine jugulaire de la girafe est la plus longue et la plus droite du monde animal et possède 9 valvules. En 1993, à Vincennes, son endoscopie confirma que les constituants anatomiques d'une veine sont orientés en fonction de son axe d'aplatissement et donc qu'une veine a bien deux faces et deux bords. En bas des jambes où la pression est énorme, un système de capillaires sanguins très résistants (le rete mirabile, ou merveilleux réseau), comparables à ceux de l'espèce humaine, empêche un œdème fatal.\n",
            "Contrairement à une idée répandue, les girafes possèdent des cordes vocales mais elles n'émettent que très rarement des sons, se reposant davantage sur la vision que sur l'audition pour communiquer via par exemple des postures et des mouvements du cou et de la tête. Dans l'obscurité, les girafes ont tout de même recours à une communication orale, elles produisent un bruit sourd, une sorte de bourdonnement autour de 92 Hz, c'est-à-dire à la limite de la perception humaine. Néanmoins, il est possible d'entendre les girafons en situation de stress pousser un genre de beuglement approchant celui des bovins. La girafe est le seul mammifère terrestre qui ne bâille pas,.\n",
            "Son espérance de vie serait de l'ordre de 10 à 15 ans ou de 26 ans en milieu sauvage (selon les sources), et de 27 à plus de 36 ans en captivité. Un mâle girafe du Kordofan a vécu 30 ans au Bioparc de Doué-la-Fontaine, il était le doyen de la population captive européenne.\n",
            "\n",
            "\n",
            "== Écologie et comportement ==\n",
            "\n",
            "\n",
            "=== Régime alimentaire ===\n",
            "\n",
            "La girafe se nourrit de feuilles d'arbre très nutritives, essentiellement des légumineuses, riches en sels minéraux car la girafe a besoin de 20 g/jour de calcium. Elle peut occasionnellement se nourrir de fleurs, fruits, graines ou cosses. Sa consommation quotidienne va de 7 kg (nourriture rare) à 70 kg (nourriture abondante). Elle ne se nourrit ou ne s'abreuve au sol qu'en écartant les pattes de devant ou en pliant les genoux, après avoir bien inspecté les alentours. Elle lève souvent la tête entre deux gorgées lorsqu'elle est dans cette posture périlleuse, mais elle trouve l'essentiel de ses besoins en eau dans la nourriture et ne va boire que tous les 1 à 2 jours.\n",
            "\n",
            "Les acacias de la savane ont atteint des tailles leur permettant d'échapper aux zèbres et aux antilopes, mais leurs feuilles les plus tendres poussent entre 2 et 6 mètres, ce qui constitue pour la girafe la hauteur idéale et sa niche alimentaire. Sa langue bleue et préhensile est la plus puissante, la plus coriace et la plus longue (55 cm) parmi les ongulés. Elle peut l'allonger pour atteindre les pousses les plus tendres entre les barrières d'épines d'acacias. La girafe n'a pas d'incisives à la mâchoire supérieure. Elle saisit donc les pousses d'acacias avec sa langue, puis les guide entre ses lèvres, referme la bouche et tire la tête en arrière pour racler les feuilles grâce à ses dents du bas.\n",
            "Certains acacias (Acacia drepanolobium) sont protégés parce qu'ils hébergent des galles de fourmis agressives du genre Crematogaster,, à la morsure cuisante pour la bouche et les lèvres des girafes. Les acacias broutés émettent plus de nectar servant de nourriture à ces fourmis[réf. nécessaire] ainsi qu'une hormone végétale de stress leur permettant d'augmenter leur production de tanin, ce qui rend les feuilles plus amères et moins appétissantes pour la girafe, laquelle s'éloigne alors pour aller brouter plus loin. Cette boucle de rétroaction expliquerait que les girafes et les éléphants n'ont jamais surexploité les acacias.\n",
            "\n",
            "\n",
            "=== Reproduction ===\n",
            "Les girafes n'ont pas de saison de reproduction définie. Les femelles sont constamment sollicitées par les mâles. Cependant, la conception a généralement lieu à la saison des pluies et les naissances se produisent entre mai et août dans des périodes sèches.\n",
            "Tous les 15 jours, les femelles sont en rut pendant une journée. Les mâles doivent donc rapidement trouver une femelle apte à procréer. Si la femelle est réceptive, celle-ci tourne autour du mâle et prend une position d'accouplement. Tous les 20 à 30 mois les femelles se reproduisent.\n",
            "\n",
            "\n",
            "==== La girafe mâle ====\n",
            "\n",
            "Le grand mâle parcourt les pâtures des femelles pour trouver une partenaire. Il tente de dominer ses rivaux en leur coupant le passage et en dressant sa tête le plus haut possible. Le combat éclate lorsqu'un rival refuse de baisser la tête, de laisser le passage, ou fronce la lèvre en sa présence.\n",
            "Dans les combats de girafes, les mâles utilisent leur tête comme une massue, qui est lourde, cornue et bosselée (comportement appelé « necking »). Ses ossicônes sont massifs et durs comme de l'ivoire et sur son front pousse une excroissance osseuse, la corne médiane.\n",
            "Les deux mâles se cognent jusqu'à ce que l'un d'eux abandonne. La tête d'un mâle de 15 ans pèse 10 kg de plus que celle d'un jeune adulte de 7 ans, ce qui lui permet de gagner à tous les coups, mais le perdant est rarement tué et ils ne se battent jamais à coups de sabots.\n",
            "Une fois qu'un mâle a conquis une femelle, ses amours sont caressantes et paisibles, avec beaucoup de coups de langue.\n",
            "\n",
            "\n",
            "==== La girafe femelle et le girafon (ou girafeau) ====\n",
            "\n",
            "La girafe peut commencer à mettre bas dès l'âge de cinq ans. La gestation dure environ 15 mois. La mise bas s'effectue debout et le girafon tombe de près de deux mètres de haut. Il y a des risques que le girafon meure à la naissance, car en tombant il peut se blesser, et notamment se briser la nuque, même si cela reste très rare. La girafe met au monde le plus souvent un seul petit à la fois, exceptionnellement deux.\n",
            "À la naissance, le girafon mesure deux mètres pour un poids variant de 40 à 80 kg. Les jambes sont plus longues que le cou et sortent les premières. Le cou est proportionnellement moins long que celui des adultes. Sur la tête, deux touffes de poils noirs recouvrent les cartilages des futurs ossicônes, qui se souderont avec les os du crâne. Il s'agit de l'un des rares animaux dont les appendices crâniens existent dès la naissance.\n",
            "La girafe n'adopte son petit que s'il est capable de se tenir rapidement debout (généralement au bout de 15 minutes) et de stimuler la lactation. Au bout d'une heure, il doit tenir sur ses pattes pour atteindre les mamelles de sa mère où il pourra se nourrir d'un lait très gras. Dans le cas contraire, elle l'abandonne ou même le tue.\n",
            "La mère se fait comprendre de son petit en le caressant avec le bout de son museau ou avec un langage sonore d'une fréquence trop élevée pour les humains. Elle l'incite ainsi à la suivre et à la téter, créant ainsi le lien maternel.\n",
            "Le girafon grandit de un mètre durant la première année de sa vie. À six mois, il approche les trois mètres et à sept ans, il aura sa taille d'adulte avec un minimum de cinq mètres.\n",
            "Le sevrage intervient au bout de 12 à 16 mois mais le girafon peut rester avec sa mère jusqu'à l'âge de deux ans et demi. Après cette période, il est gardé dans une « nurserie » qui permet à sa mère d'aller s'alimenter. La maturité sexuelle est acquise au bout de trois à quatre ans pour un girafon femelle, et quatre à cinq ans pour un mâle.\n",
            "\n",
            "\n",
            "=== Prédateurs ===\n",
            "Adulte et en bonne santé, la girafe n'a à craindre que le lion, bien qu'elle puisse le tuer d'un coup de patte. Par contre, les jeunes qui échappent à la surveillance de leur mère ou isolés du troupeau et les sujets affaiblis par la vieillesse, la maladie ou une blessure, peuvent être la proie de prédateurs comme les lions, les hyènes rayées, les hyènes tachetées, les léopards ou les lycaons. C'est ainsi que trois girafons sur quatre se font tuer avant l'âge de trois mois.[réf. nécessaire] Aux points d'eau, les girafons peuvent aussi être victimes des crocodiles. La girafe se repose et dort debout. Ce n’est que si elle se sent parfaitement en sécurité qu’elle dormira et se reposera par terre ; sa stature la rend vulnérable aux prédateurs, car elle met un certain temps à se relever.\n",
            "\n",
            "\n",
            "=== Course ===\n",
            "Lorsqu'elle court, elle va à l'amble, à l'instar du chameau ou de l'ours, c'est-à-dire qu'elle lève ensemble les deux pattes du même côté. En vitesse de croisière, elle court à 15 km/h mais peut accélérer à 56 km/h en prenant un curieux galop. Les pattes avant se lèvent ensemble mais largement écartées, ce qui évite que ses sabots s'entrechoquent.\n",
            "Son galop particulier est facilité par son long cou qui balance et crée l'équilibre, grâce à un petit muscle spécial qui le tire en avant.\n",
            "\n",
            "\n",
            "== Répartition géographique ==\n",
            "\n",
            "La girafe vit dans la savane africaine. On la trouve du Tchad jusqu'en Afrique du Sud. Mais c'est principalement au Kenya, en Tanzanie, au Botswana et au Niger que l'on peut rencontrer des troupeaux de girafes. Elle était aussi présente en Afrique Australe (Angola, Botswana, Malawi, Mozambique, Namibie, Swaziland, Zambie, Zimbabwe). Les girafes ont disparu de la plupart des pays de l'Afrique de l'Ouest. L'espèce a été réintroduite en Afrique du Sud pour les réserves de chasse[réf. souhaitée].\n",
            "\n",
            "\n",
            "== Taxonomie et génétique ==\n",
            "\n",
            "\n",
            "=== Sous-espèces ===\n",
            "\n",
            "Neuf sous-espèces sont généralement acceptées, avec notamment quelques variations de couleurs et de répartition géographique :\n",
            "\n",
            "Girafe du Niger — G. c. peralta Thomas, 1898 — Sud-Ouest du Niger ;\n",
            "Girafe réticulée ou Girafe de Somalie — G. c. reticulata De Winton, 1899 — Nord-Est du Kenya, Éthiopie, Somalie ;\n",
            "Girafe d'Angola — G. c. angolensis Lydekker, 1903  — Angola, Botswana, Namibie ;\n",
            "Girafe du Cap ou Girafe d'Afrique du Sud — G. c. giraffa Schreber, 1784 — Afrique du Sud, Botswana, Zimbabwe, Mozambique ;\n",
            "Girafe du Kordofan ou Girafe d'Afrique de l'Ouest — G. c. antiquorum Swainson, 1835 — Tchad, République centrafricaine, Nord-est du Cameroun ;\n",
            "Girafe Masaï — G.c. tippelskirchi Matschie, 1898 — Centre et Sud du Kenya, Tanzanie, Est du Rwanda (P.N. de l'Akagera, introduite en 1986).\n",
            "Girafe de Nubie — G. c. camelopardalis Linnaeus, 1758 — Soudan, Nord-Est de la République démocratique du Congo, Éthiopie ;\n",
            "Girafe de Rothschild — G. c. rothschildi Lydekker, 1903 — Ouganda, Centre-Nord du Kenya ;\n",
            "Girafe de Rhodésie ou Girafe de Zambie — G. c. thornicrofti Lydekker, 1911 — Zambie.Les avis des scientifiques divergent au sujet des sous-espèces de girafes. Ainsi, en 2007, une étude moléculaire extensive de girafes confirme la différenciation génétique très nette d'au moins six populations. En 2016, une étude propose d'élever au rang d'espèce quatre taxons. En 2017, une réponse à l'étude de 2016 est publiée, relevant de nombreux points problématiques dans l'interprétation des résultats, et expliquant que les conclusions taxonomiques ne doivent pas être acceptées inconditionnellement.\n",
            "\n",
            "\n",
            "=== Génome ===\n",
            "Les deux-tiers environ du génome de la Girafe Masaï sont décryptés en 2016, puis presque 100 % de celui de la Girafe de Rothschild en 2021. Cette dernière étude compare aussi ces génomes à ceux de 50 autres ruminants dont l'Okapi, espèce la plus proche (mais de la taille d'un zèbre) dont les ancêtres ont divergé de ceux de la Girafe il y a environ 11,5 millions d'années,.\n",
            "Le caryotype de la Girafe comporte 2 n = 30 chromosomes (15 paires), donc beaucoup moins que le dernier ancêtre commun (DAC) des artiodactyles (2 n = 58 ou 60). Le DAC des Pecora (dont dérivent les giraffidés et les bovidés) avait aussi, comme les bovidés actuels, 60 chromosomes. Alors que le DAC des bovidés procède de celui des Pecora par exactement trois fusions de chromosomes et trois fissions, celui des giraffidés implique au moins dix-sept fusions et quatre fissions.\n",
            "Le génome de la Girafe comporte 2,44 Gb (milliards de paires de bases), et 97,95 % des bases nucléiques ont pu être attribuées à l'un des n = 15 chromosomes différents. 490 gènes de la Girafe portent des mutations spécifiques, la plupart liés aux caractéristiques de l'appareil cardiovasculaire, à la croissance osseuse et au système sensoriel. Le gène FGFRL1 notamment, porteur de sept mutations spécifiques, contrecarre — par un mécanisme encore inconnu — les effets néfastes de l'hypertension artérielle (la pression sanguine à la sortie du cœur est 2,5 fois plus élevée chez la Girafe que chez l'Homme, ce qui permet d'acheminer le sang jusqu'au cerveau situé 2 m plus haut). L'efficacité de ce gène de la Girafe contre les maladies (notamment du cœur et du rein) dues à l'hypertension a été vérifiée chez des souris génétiquement modifiées. Il leur confère aussi une plus grande densité minérale osseuse, utile chez la Girafe au maintien de sa haute stature,.\n",
            "D'autres mutations spécifiques affectent des gènes liés au développement de l'œil et à la vision (les girafes ont la meilleure vision de tous les ongulés), et des gènes qui régulent le rythme du sommeil (les girafes à l'état sauvage ne dorment que 40 minutes par jour et environ 3 à 5 min à la fois). En revanche, la Girafe a perdu (par rapport à l'Okapi) au moins 53 gènes liés à l'olfaction (un sens sans doute peu utile, avec un nez à 6 m du sol),.\n",
            "\n",
            "\n",
            "== La girafe et les hommes ==\n",
            "\n",
            "\n",
            "=== Menaces et conservation ===\n",
            "La girafe est chassée pour sa viande et sa peau. Elle fut tuée aussi pour sa queue, utilisée comme monnaie primitive ou symbole d'autorité. En plus de ce braconnage, elle est menacée par la destruction de son habitat, notamment dans le Sahel où la déforestation est répandue. D’après l’Union internationale pour la conservation de la nature (UICN), on comptait 155 000 girafes vivant dans la nature en 1985 contre 97 500 en 2015, ce qui constitue une baisse des effectifs de l’espèce d’environ 40 % au cours des 30 dernières années. La population des girafes d'Afrique occidentale a baissé fortement dans les décennies récentes. En revanche, les populations de l'Afrique de l'Est et de l'Afrique australe sont stables, et dans certaines régions elles ont même augmenté. La girafe est une espèce protégée dans la plupart des pays correspondant à son aire de répartition.\n",
            "On a estimé que la population totale des girafes représente 110 000 à 150 000 animaux en 2010, contre un million au milieu des années 1990. Les plus grandes populations nationales se trouvent au Kenya (45 000), en Tanzanie (30 000) et au Botswana (12 000). En 2019, leur nombre est estimé à 98 000. En 30 ans, 40% des girafes ont disparu sur le continent africain selon une étude du National Geographic publiée en 2019.\n",
            "Le dernier troupeau de girafes en liberté de toute l'Afrique de l'Ouest se trouve au Niger dans les environs de Kouré, à environ une heure de la capitale Niamey. Il fait l'objet d'un suivi par l'Association pour la sauvegarde des girafes du Niger (ASGN), impliquant les populations des villages avoisinants, permettant un repeuplement du troupeau. Afin d'éviter les problèmes de consanguinité, des échanges sont pratiqués avec des zoos et réserves d'autres continents.\n",
            "La girafe de Rothschild, à cheval entre le Sud-Soudan et l'Ouganda, est menacée d'extinction, ne comptant plus que 650 individus et est inscrite sur la liste des espèces en danger de l'Union internationale pour la conservation de la nature.\n",
            "Selon la zoologiste Anne Innis Dagg « Sur les neuf sous-espèces, nous allons probablement en perdre quelques-unes » (The Times).\n",
            "À ce jour il n'existe en Europe aucune association de protection et sauvegarde ni de la girafe de Rothschild ni des autres sous-espèces menacées.\n",
            "Le 22 août 2019, les délégués de la CITES ont reconnu que la survie des girafes était menacée. Par 106 voix contre 21 et 7 abstentions la CITES a reconnu pour la première fois que le commerce de peau, de cornes, de sabots et d'os de girafes notamment constituait une menace pour la survie de l'espèce.\n",
            "\n",
            "L'espèce dans sa globalité est classée comme vulnérable par l'UICN. Deux des neuf sous-espèces de girafes, la Girafe Masaï et la Girafe réticulée, sont classées par ce même organisme comme en danger d'extinction,, et deux autres, la Girafe du Kordofan et la Girafe de Nubie, sont en en danger critique d'extinction,.\n",
            "\n",
            "\n",
            "=== Une longue histoire ===\n",
            "Les Grecs pensaient que la girafe résultait de l'union du chameau et du léopard, d'où le nom scientifique camelopardalis (en grec ancien καμηλοπάρδαλις / kamêlopárdalis).\n",
            "Selon Pline l'Ancien, le cortège ramenant Vercingétorix vaincu à Rome aurait comporté une girafe.\n",
            "En Asie de l'Est et notamment au Japon où elle porte ce nom, la girafe est associée au qilin (ou kirin), animal mythique proche de la licorne. En effet, une girafe fut ramenée d'Afrique en Chine dès 1414 par Zheng He et accueillie par l'empereur Ming Yongle comme un qilin, témoignage de son bon gouvernement.\n",
            "Elle a été décrite, pour la première fois en France, par Pierre Belon (1517-1564).\n",
            "En 1809, Lamarck pensait qu'à force d'allonger le cou, elle avait transmis ce trait à sa descendance. En 1872, Darwin pensait que son long cou était dû à une sélection liée aux périodes de famines, où un ou deux pouces en plus faisaient la différence et permettaient de survivre. L'hypothèse de la sélection sexuelle est aussi avancée, les mâles se battant à coup de cou ou au contraire se caressant (comportement appelé necking).\n",
            "\n",
            "\n",
            "=== Arts et culture ===\n",
            "Une girafe est visible sur une fresque de Giorgio Vasari au Palazzo Vecchio de Florence.\n",
            "Salvador Dalí a peint en 1937, pendant que la guerre civile faisait rage en Espagne, une toile intitulée La Girafe en feu (ce tableau est conservé au musée des beaux-arts de Bâle).\n",
            "Honoré de Balzac a fait imprimer Discours de la girafe au chef des six Osages prononcé le jour de leur visite au jardin du Roi, traduit de l’arabe par l’interprète de la girafe dont l'auteur est inconnu. François-René de Chateaubriand a écrit un pamphlet : La girafe ou le gouvernement des bêtes.\n",
            "En France, Sophie la girafe est un jouet en caoutchouc créé en 1961 et destiné à être mordillé par les nourrissons.\n",
            "En argot, une girafe est une personne de haute taille.\n",
            "L'expression « peigner la girafe » signifie ne rien faire ou perdre son temps. L'origine de cette expression, qui n'est pas attestée avant 1900, est inconnue. On sait cependant que lorsqu'une girafe (nommée Zarafa) fut offerte à Charles X par le pacha d'Égypte, celle-ci eut un gardien personnel, qui répondit à ses supérieurs lui reprochant de ne rien faire, qu'il était fort occupé à peigner la girafe.\n",
            "La girafe est une métaphore de la communication non-violente.\n",
            "\t\t\n",
            "\t\t\n",
            "\n",
            "\n",
            "=== La girafe de Charles X ===\n",
            "\n",
            "La première girafe à entrer vivante sur le sol français fut ramenée d'Égypte en 1827 par le naturaliste Étienne Geoffroy Saint-Hilaire : elle parcourut près de 800 km (dont plus de la moitié à pied) entre Marseille et le Jardin des plantes à Paris. L'événement eut à l'époque une portée considérable. Il s'agit de celle qui est actuellement visible, naturalisée, au Muséum d'histoire naturelle de La Rochelle. Le film Zarafa, sorti en France en 2012, raconte cette histoire.\n",
            "\n",
            "\n",
            "== Galerie ==\n",
            "\n",
            "\t\t\n",
            "\t\t\n",
            "\t\t\n",
            "\t\t\n",
            "\t\t\n",
            "\t\t\n",
            "\t\t\n",
            "\t\t\n",
            "\n",
            "\n",
            "== Notes et références ==\n",
            "\n",
            "\n",
            "== Annexes ==\n",
            "\n",
            "\n",
            "=== Articles connexes ===\n",
            "Okapi, une autre espèce plus petite de giraffidé.\n",
            "Girafe du Sud, autre espèce du même genre ;\n",
            "Girafe du Niger.\n",
            "\n",
            "\n",
            "=== Bibliographie ===\n",
            "Alice Petzold, Biodiversité actuelle et historique des girafes (Mammalia, Cetartiodactyla), Paris, Muséum national d'histoire naturelle, 2016 (lire en ligne)\n",
            "\n",
            "\n",
            "=== Références taxinomiques ===\n",
            "(en) Référence Mammal Species of the World (3e éd., 2005) : Giraffa camelopardalis (Linnaeus, 1758)  (consulté le 28 juin 2012)\n",
            "(en) Référence Tree of Life Web Project : Giraffa camelopardalis  (consulté le 28 juin 2012)\n",
            "(en) Référence Catalogue of Life : Giraffa camelopardalis (Linnaeus, 1758)   (consulté le 15 décembre 2020)\n",
            "(en) Référence Paleobiology Database : Giraffa camelopardalis (Linnaeus 1758)  (consulté le 28 juin 2012)\n",
            "(fr+en) Référence ITIS : Giraffa camelopardalis (Linnaeus, 1758) (+ version anglaise) (consulté le 28 juin 2012)\n",
            "\n",
            "\n",
            "=== Liens externes ===\n",
            "(en) Référence Animal Diversity Web : Giraffa camelopardalis (consulté le 28 juin 2012)\n",
            "(en) Référence NCBI : Giraffa camelopardalis (taxons inclus) (consulté le 28 juin 2012)\n",
            "(en) Référence UICN : espèce Giraffa camelopardalis (Linnaeus, 1758) (consulté le 20 mai 2015)\n",
            "(en) Référence uBio : Giraffa camelopardalis (Linnaeus, 1758)  (consulté le 28 juin 2012)\n",
            "(en) Référence Fonds documentaire ARKive : Giraffa camelopardalis   (consulté le 28 juin 2012)\n",
            "Giraffe Conservation Foundation\n",
            "Introduction à l’Histoire de la girafe au Moyen Âge Portail des mammifères\n"
          ]
        }
      ]
    },
    {
      "cell_type": "markdown",
      "metadata": {
        "id": "jXFTWwd0rk63"
      },
      "source": [
        "Now let us calculate the frequency of the character n-grams. N-grams are groups of characters of size n. A unigram is a single character and a bigram is a group of two characters and so on. \n",
        "\n",
        "Let us count the frequency of each character in a text and plot it in a histogram."
      ]
    },
    {
      "cell_type": "code",
      "metadata": {
        "id": "g3Lz3YUjN0L5"
      },
      "source": [
        "# convert a tuple of characters to a string\n",
        "def tuple2string(tup):\n",
        "  st = ''\n",
        "  for ii in tup:\n",
        "    st = st + ii\n",
        "  return st\n",
        "\n",
        "# convert a tuple of tuples to a list of strings\n",
        "def key2string(keys):\n",
        "  return [tuple2string(i) for i in keys]\n",
        "\n",
        "# plot the histogram\n",
        "def plothistogram(ngram):\n",
        "  keys = key2string(ngram.keys()) \n",
        "  values = list(ngram.values())\n",
        "  \n",
        "  # sort the keys in alphabetic order\n",
        "  combined = zip(keys, values)\n",
        "  zipped_sorted = sorted(combined, key=lambda x: x[0])\n",
        "  keys, values = map(list, zip(*zipped_sorted))\n",
        "  plt.bar(keys, values)"
      ],
      "execution_count": null,
      "outputs": []
    },
    {
      "cell_type": "markdown",
      "metadata": {
        "id": "zHD62zbZcwAB"
      },
      "source": [
        "Let us compare the histograms of English pages and French pages. Can you spot a difference?"
      ]
    },
    {
      "cell_type": "code",
      "metadata": {
        "id": "LKcGRgH6b0KP"
      },
      "source": [
        "unigram_eng1 = Counter(ngrams(eng1,1))\n",
        "plothistogram(unigram_eng1)\n",
        "plt.title('English 1')\n",
        "plt.show()\n",
        "unigram_eng2 = Counter(ngrams(eng2,1))\n",
        "plothistogram(unigram_eng2)\n",
        "plt.title('English 2')\n",
        "plt.show()"
      ],
      "execution_count": null,
      "outputs": []
    },
    {
      "cell_type": "code",
      "metadata": {
        "id": "fDM_UhCL2QLt"
      },
      "source": [
        "unigram_fr1 = Counter(ngrams(fr1,1))\n",
        "plothistogram(unigram_eng1)\n",
        "plt.title('French 1')\n",
        "plt.show()\n",
        "unigram_fr2 = Counter(ngrams(fr2,1))\n",
        "plothistogram(unigram_fr2)\n",
        "plt.title('French 2')\n",
        "plt.show()"
      ],
      "execution_count": null,
      "outputs": []
    },
    {
      "cell_type": "markdown",
      "metadata": {
        "id": "kxgrdZLKdkAB"
      },
      "source": [
        "We can see that the unigrams for French and English are very similar. So this is not a good feature if we want to distinguish between English and French. Let us look at bigrams."
      ]
    },
    {
      "cell_type": "code",
      "metadata": {
        "id": "OmRCxItx2T9W"
      },
      "source": [
        "bigram_eng1 = Counter(ngrams(eng1,2)) # bigrams\n",
        "plothistogram(bigram_eng1)\n",
        "plt.title('English 1')\n",
        "plt.show()\n",
        "\n",
        "bigram_eng2 = Counter(ngrams(eng2,2))\n",
        "plothistogram(bigram_eng2)\n",
        "plt.title('English 2')\n",
        "plt.show()\n",
        "\n",
        "bigram_fr1 = Counter(ngrams(fr1,2))\n",
        "plothistogram(bigram_eng1)\n",
        "plt.title('French 1')\n",
        "plt.show()\n",
        "\n",
        "bigram_fr2 = Counter(ngrams(fr2,2))\n",
        "plothistogram(bigram_fr2)\n",
        "plt.title('French 2')\n",
        "plt.show()"
      ],
      "execution_count": null,
      "outputs": []
    },
    {
      "cell_type": "markdown",
      "metadata": {
        "id": "O-egsHMIg5Rp"
      },
      "source": [
        "Another way to visualize bigrams is to use a 2-dimensional graph."
      ]
    },
    {
      "cell_type": "code",
      "metadata": {
        "id": "3EaPJgtaVxZM"
      },
      "source": [
        "def plotbihistogram(ngram):\n",
        "  freq = np.zeros((26,26))\n",
        "  for ii in range(26):\n",
        "    for jj in range(26):\n",
        "      freq[ii,jj] = ngram[(chr(ord('a')+ii), chr(ord('a')+jj))]\n",
        "  plt.imshow(freq, cmap = 'jet')\n",
        "  return freq"
      ],
      "execution_count": null,
      "outputs": []
    },
    {
      "cell_type": "code",
      "metadata": {
        "id": "M7jq3AwnVzQT"
      },
      "source": [
        "bieng1 = plotbihistogram(bigram_eng1)\n",
        "plt.show()\n",
        "bieng2 = plotbihistogram(bigram_eng2)"
      ],
      "execution_count": null,
      "outputs": []
    },
    {
      "cell_type": "code",
      "metadata": {
        "id": "UXPTOj67WsPT"
      },
      "source": [
        "bifr1 = plotbihistogram(bigram_fr1)\n",
        "plt.show()\n",
        "bifr2 = plotbihistogram(bigram_fr2)"
      ],
      "execution_count": null,
      "outputs": []
    },
    {
      "cell_type": "markdown",
      "metadata": {
        "id": "rGOEHcyGokD0"
      },
      "source": [
        "Let us look at the top 10 ngrams for each text. "
      ]
    },
    {
      "cell_type": "code",
      "metadata": {
        "id": "dk2TkzTno8vb"
      },
      "source": [
        "from IPython.core.debugger import set_trace\n",
        "\n",
        "def ind2tup(ind):\n",
        "  ind = int(ind)\n",
        "  i = int(ind/26)\n",
        "  j = int(ind%26)\n",
        "  return (chr(ord('a')+i), chr(ord('a')+j))\n",
        "\n",
        "def ShowTopN(bifreq, n=10):\n",
        "  f = bifreq.flatten()\n",
        "  arg = np.argsort(-f)\n",
        "  for ii in range(n):\n",
        "    print(f'{ind2tup(arg[ii])} : {f[arg[ii]]}')\n"
      ],
      "execution_count": null,
      "outputs": []
    },
    {
      "cell_type": "code",
      "metadata": {
        "id": "_HeWNh_q0QZ1"
      },
      "source": [
        "print('\\nEnglish 1:')\n",
        "ShowTopN(bieng1)\n",
        "print('\\nEnglish 2:')\n",
        "ShowTopN(bieng2)\n",
        "print('\\nFrench 1:')\n",
        "ShowTopN(bifr1)\n",
        "print('\\nFrench 2:')\n",
        "ShowTopN(bifr2)"
      ],
      "execution_count": null,
      "outputs": []
    },
    {
      "cell_type": "markdown",
      "metadata": {
        "id": "6kDovOP4l98z"
      },
      "source": [
        "We observe that the bigrams are similar across different topics but different across languages. Thus, the bigram frequency is a good feature for distinguishing languages, but not for distinguishing topics. \n",
        "\n",
        "Thus, we were able to convert a many-dimensional input (the text) to 26 dimesions (unigrams) or 26*26 dimensions (bigrams).\n",
        "\n",
        "\n",
        "A few ways to explore:\n",
        "1. Try with different languages.\n",
        "2. The topics we used are quite similar, wikipedia articles of 'elephant' and 'giraffe'. What happens if we use very different topics? What if we use text from another source than Wikipedia?\n",
        "3. How can we use and visualize trigrams and higher n-grams?"
      ]
    },
    {
      "cell_type": "markdown",
      "metadata": {
        "id": "2ZJfjIHk-oHV"
      },
      "source": [
        "# Part 2: Written numbers\n",
        "\n",
        "We will use a subset of the MNIST dataset. Each input character is represented in a 28*28 array. Let us see if we can extract some simple features from these images which can help us distinguish between the digits.\n",
        "\n",
        "Load the dataset:"
      ]
    },
    {
      "cell_type": "code",
      "metadata": {
        "id": "yNsLJSr6wGY0"
      },
      "source": [
        "from keras.datasets import mnist\n",
        " \n",
        "#loading the dataset\n",
        "(train_X, train_y), (test_X, test_y) = mnist.load_data()\n",
        "\n"
      ],
      "execution_count": null,
      "outputs": []
    },
    {
      "cell_type": "markdown",
      "metadata": {
        "id": "jVNr144WAUZO"
      },
      "source": [
        "Extract a subset of the data for our experiment:"
      ]
    },
    {
      "cell_type": "code",
      "metadata": {
        "id": "P3MN8ddxAASZ"
      },
      "source": [
        "no1 = train_X[train_y==1,:,:]\n",
        "no0 = train_X[train_y==0,:,:]"
      ],
      "execution_count": null,
      "outputs": []
    },
    {
      "cell_type": "markdown",
      "metadata": {
        "id": "ePXCs0qyCLpc"
      },
      "source": [
        "Let us visualize a few images here:"
      ]
    },
    {
      "cell_type": "code",
      "metadata": {
        "id": "BQeyZSh-Arpc"
      },
      "source": [
        "for ii in range(5):\n",
        "  plt.subplot(1, 5, ii+1)\n",
        "  plt.imshow(no1[ii,:,:])\n",
        "plt.show()\n",
        "for ii in range(5):\n",
        "  plt.subplot(1, 5, ii+1)\n",
        "  plt.imshow(no0[ii,:,:])\n",
        "plt.show()"
      ],
      "execution_count": null,
      "outputs": []
    },
    {
      "cell_type": "markdown",
      "metadata": {
        "id": "1g-Tg7EKDz96"
      },
      "source": [
        "suNow, let us start with a simple feature: the sum of all pixels and see how good this feature is."
      ]
    },
    {
      "cell_type": "code",
      "metadata": {
        "id": "I8SztDk7CyZc"
      },
      "source": [
        "sum1 = np.sum(no1>0, (1,2)) # threshold before adding up\n",
        "sum0 = np.sum(no0>0, (1,2))"
      ],
      "execution_count": null,
      "outputs": []
    },
    {
      "cell_type": "markdown",
      "metadata": {
        "id": "8oW3XCOCE7Zv"
      },
      "source": [
        "Let us visualize how good this feature is: (X-axis is mean, y-axis is the digit)"
      ]
    },
    {
      "cell_type": "code",
      "metadata": {
        "id": "i8PIe8o_DPpU"
      },
      "source": [
        "plt.hist(sum1, alpha=0.7);\n",
        "plt.hist(sum0, alpha=0.7);"
      ],
      "execution_count": null,
      "outputs": []
    },
    {
      "cell_type": "markdown",
      "metadata": {
        "id": "7_hToEepFtl2"
      },
      "source": [
        "We can already see that this feature separates the two classes quite well.\n",
        "\n",
        "Let us look at another, more complicated feature. We will count the number black pixels that are surrounded on four sides by non-black pixels, or \"hole pixels\"."
      ]
    },
    {
      "cell_type": "code",
      "metadata": {
        "id": "HwEnlm6RFFej"
      },
      "source": [
        "def cumArray(img):\n",
        "  img2 = img.copy()\n",
        "  for ii in range(1, img2.shape[1]):\n",
        "    img2[ii,:] = img2[ii,:] + img2[ii-1,:]  # for every row, add up all the rows above it.\n",
        "  img2 = img2>0\n",
        "  return img2\n",
        "\n",
        "def getHolePixels(img):\n",
        "  im1 = cumArray(img)\n",
        "  im2 = np.rot90(cumArray(np.rot90(img)), 3) # rotate and cumulate it again for differnt direction\n",
        "  im3 = np.rot90(cumArray(np.rot90(img, 2)), 2)\n",
        "  im4 = np.rot90(cumArray(np.rot90(img, 3)), 1)\n",
        "  hull =  im1 & im2 & im3 & im4 # this will create a binary image with all the holes filled in.\n",
        "  hole = hull & ~ (img>0) # remove the original digit to leave behind the holes\n",
        "  return hole\n",
        "\n",
        "\n"
      ],
      "execution_count": null,
      "outputs": []
    },
    {
      "cell_type": "markdown",
      "metadata": {
        "id": "iw3HjgnupUEI"
      },
      "source": [
        "Visualize a few:"
      ]
    },
    {
      "cell_type": "code",
      "metadata": {
        "id": "H0sjr23NYEFe"
      },
      "source": [
        "imgs = [no1[456,:,:],  no0[456,:,:]]\n",
        "for img in imgs:\n",
        "  plt.subplot(1,2,1)\n",
        "  plt.imshow(getHolePixels(img))\n",
        "  plt.subplot(1,2,2)\n",
        "  plt.imshow(img)\n",
        "  plt.show()"
      ],
      "execution_count": null,
      "outputs": []
    },
    {
      "cell_type": "markdown",
      "metadata": {
        "id": "vS-4erNXtxMi"
      },
      "source": [
        "Now let us plot the number of hole pixels and see how this feature behaves"
      ]
    },
    {
      "cell_type": "code",
      "metadata": {
        "id": "Dpm1dRgsety8"
      },
      "source": [
        "hole1 = np.array([getHolePixels(i).sum() for i in no1])\n",
        "hole0 = np.array([getHolePixels(i).sum() for i in no0])\n",
        "  \n",
        "plt.hist(hole1, alpha=0.7);\n",
        "plt.hist(hole0, alpha=0.7);"
      ],
      "execution_count": null,
      "outputs": []
    },
    {
      "cell_type": "markdown",
      "metadata": {
        "id": "8UjCBHpJ31yq"
      },
      "source": [
        "This feature works even better to distinguish between one and zero. \n",
        "\n",
        "\n",
        "Now let us try the number of pixels in the 'hull' or the number with the holes filled in:"
      ]
    },
    {
      "cell_type": "code",
      "metadata": {
        "id": "vPtJ8eqolAOf"
      },
      "source": [
        "def getHullPixels(img):\n",
        "  im1 = cumArray(img)\n",
        "  im2 = np.rot90(cumArray(np.rot90(img)), 3) # rotate and cumulate it again for differnt direction\n",
        "  im3 = np.rot90(cumArray(np.rot90(img, 2)), 2)\n",
        "  im4 = np.rot90(cumArray(np.rot90(img, 3)), 1)\n",
        "  hull =  im1 & im2 & im3 & im4 # this will create a binary image with all the holes filled in.\n",
        "  return hull\n"
      ],
      "execution_count": null,
      "outputs": []
    },
    {
      "cell_type": "code",
      "metadata": {
        "id": "W3fOgyYjmJ48"
      },
      "source": [
        "imgs = [no1[456,:,:],  no0[456,:,:]]\n",
        "for img in imgs:\n",
        "  plt.subplot(1,2,1)\n",
        "  plt.imshow(getHullPixels(img))\n",
        "  plt.subplot(1,2,2)\n",
        "  plt.imshow(img)\n",
        "  plt.show()"
      ],
      "execution_count": null,
      "outputs": []
    },
    {
      "cell_type": "markdown",
      "metadata": {
        "id": "M5rHal_HRWnE"
      },
      "source": [
        "Plotting the number of hull pixels versus the digit:"
      ]
    },
    {
      "cell_type": "code",
      "metadata": {
        "id": "WTLzYZLTRQ_p"
      },
      "source": [
        "hull1 = np.array([getHullPixels(i).sum() for i in no1])\n",
        "hull0 = np.array([getHullPixels(i).sum() for i in no0])\n",
        "\n",
        "plt.hist(hull1, alpha=0.7);\n",
        "plt.hist(hull0, alpha=0.7);"
      ],
      "execution_count": null,
      "outputs": []
    },
    {
      "cell_type": "markdown",
      "metadata": {
        "id": "OSzH26ElXNri"
      },
      "source": [
        "Let us try one more feature, where we look at the number of boundary pixels in each image."
      ]
    },
    {
      "cell_type": "code",
      "metadata": {
        "id": "h-2czBypXMwT"
      },
      "source": [
        "def minus(a, b):\n",
        "  return a & ~ b\n",
        "\n",
        "def getBoundaryPixels(img):\n",
        "  img = img.copy()>0  # binarize the image\n",
        "  rshift = np.roll(img, 1, 1)\n",
        "  lshift = np.roll(img, -1 ,1)\n",
        "  ushift = np.roll(img, -1, 0)\n",
        "  dshift = np.roll(img, 1, 0)\n",
        "  boundary = minus(img, rshift) | minus(img, lshift) | minus(img, ushift) | minus(img, dshift)\n",
        "  return boundary"
      ],
      "execution_count": null,
      "outputs": []
    },
    {
      "cell_type": "code",
      "metadata": {
        "id": "u-V688jFerXh"
      },
      "source": [
        "imgs = [no1[456,:,:],  no0[456,:,:]]\n",
        "for img in imgs:\n",
        "  plt.subplot(1,2,1)\n",
        "  plt.imshow(getBoundaryPixels(img))\n",
        "  plt.subplot(1,2,2)\n",
        "  plt.imshow(img)\n",
        "  plt.show()"
      ],
      "execution_count": null,
      "outputs": []
    },
    {
      "cell_type": "code",
      "metadata": {
        "id": "kSsxsbCNXcNh"
      },
      "source": [
        "bound1 = np.array([getBoundaryPixels(i).sum() for i in no1])\n",
        "bound0= np.array([getBoundaryPixels(i).sum() for i in no0])\n",
        "\n",
        "plt.hist(bound1, alpha=0.7);\n",
        "plt.hist(bound0, alpha=0.7);"
      ],
      "execution_count": null,
      "outputs": []
    },
    {
      "cell_type": "markdown",
      "metadata": {
        "id": "WuP04Ao_R0Yz"
      },
      "source": [
        "What will happen if we plot two features together? "
      ]
    },
    {
      "cell_type": "code",
      "metadata": {
        "id": "kl7xWg-WRkAy"
      },
      "source": [
        "# Sum and hull\n",
        "plt.scatter(sum0, hull0, alpha=0.1)\n",
        "plt.scatter(sum1, hull1, alpha=0.1)\n",
        "plt.xlabel('Sum')\n",
        "plt.ylabel('Hull')\n",
        "plt.legend(['0','1'])\n",
        "plt.show()\n",
        "\n",
        "# Sum and hole\n",
        "plt.scatter(sum0, hole0, alpha=0.1)\n",
        "plt.scatter(sum1, hole1, alpha=0.1)\n",
        "plt.xlabel('Sum');\n",
        "plt.ylabel('Hole');\n",
        "plt.legend(['0','1'])\n",
        "plt.show()\n",
        "\n",
        "# Hole and boundary\n",
        "plt.scatter(bound0, hole0, alpha=0.1)\n",
        "plt.scatter(bound1, hole1, alpha=0.1)\n",
        "plt.xlabel('Boundary');\n",
        "plt.ylabel('Hole');\n",
        "plt.legend(['0','1'])\n",
        "plt.show()"
      ],
      "execution_count": null,
      "outputs": []
    },
    {
      "cell_type": "markdown",
      "metadata": {
        "id": "0JYLmKNFSIT-"
      },
      "source": [
        "Now let us try plotting 3 features together."
      ]
    },
    {
      "cell_type": "code",
      "metadata": {
        "id": "lOKEHIXFaWp_"
      },
      "source": [
        "cl1 = ['class 1']*len(sum1)\n",
        "cl0 = ['class 0']*len(sum0)\n",
        "df = pd.DataFrame(list(zip(np.concatenate((hole0, hole0)), np.concatenate((sum1,sum0)), \n",
        "                           np.concatenate((bound1,bound0)), np.concatenate((cl1, cl0)))),\n",
        "               columns =['Hole', 'Sum', 'Boundary', 'Class'])\n",
        "df.head()\n",
        "fig = px.scatter_3d(df, x='Hole', y='Sum', z='Boundary', color='Class', opacity=0.1)\n",
        "fig.show()"
      ],
      "execution_count": null,
      "outputs": []
    },
    {
      "cell_type": "markdown",
      "metadata": {
        "id": "paDGHlFSd5Fu"
      },
      "source": [
        "Feel free to explore the above graph with your mouse. \n",
        "\n",
        "\n",
        "We have seen that we extracted four features from a 28*28 dimensional image.\n",
        "\n",
        "\n",
        "Some questions to explore:\n",
        "1. Which is the best combination of features?\n",
        "2. How would you test or visualize four or more features?\n",
        "3. Can you come up with your own features?\n",
        "4. Will these features work for different classes other than 0 and 1?\n",
        "5. What will happen if we take more that two classes at a time?"
      ]
    },
    {
      "cell_type": "code",
      "metadata": {
        "id": "JKNE8ggJvN0f"
      },
      "source": [
        ""
      ],
      "execution_count": null,
      "outputs": []
    }
  ]
}